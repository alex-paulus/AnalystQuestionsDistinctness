{
 "cells": [
  {
   "cell_type": "markdown",
   "metadata": {},
   "source": [
    "# Calculation of an analyst question's thematic distinctness\n",
    "\n",
    "## Analysts’ Questions When Peers Are Listening\n",
    "\n",
    "Julia Haag, Christian Hofmann, Alexander Paulus, Nina Schwaiger, Thorsten Sellhorn<br>\n",
    "*LMU Munich School of Management*"
   ]
  },
  {
   "cell_type": "markdown",
   "metadata": {},
   "source": [
    "The following example depicts the calculation of our cosine modification score (*DistinctnessQ*) for selected analysts’ questions in [Microsoft’s Q3 2014 conference call](https://view.officeapps.live.com/op/view.aspx?src=https://c.s-microsoft.com/en-us/CMSFiles/Mi-crosoft_Q3_2014_Transcript.docx?version=8b1f52f4-9cbe-d8c2-4ee6-12083c154b2f) held on April 24, 2014. Below please find an excerpt of management presentation as the full version is multiple pages long. As indicated in Section 3, we consolidate all relevant speech portions from the management presentation and exclude stop words, non-informative word categories, and any word inflections. Subsequently, we calculate *DistinctnessQ* for each respective analyst question, which are also consolidated as well as equally preprocessed."
   ]
  },
  {
   "cell_type": "code",
   "execution_count": 1,
   "metadata": {},
   "outputs": [],
   "source": [
    "# Import of mandatory Python modules\n",
    "import pandas as pd\n",
    "import numpy as np\n",
    "import nltk\n",
    "import spacy\n",
    "from nltk.tokenize import word_tokenize, sent_tokenize\n",
    "from sklearn.feature_extraction.text import CountVectorizer\n",
    "from sklearn.metrics.pairwise import cosine_similarity\n",
    "\n",
    "# Loading of spacy nlp dictionary\n",
    "nlp = spacy.load('en_core_web_sm', disable=['ner', 'parser'])"
   ]
  },
  {
   "cell_type": "markdown",
   "metadata": {},
   "source": [
    "In the following, we define a tokenizer that includes the typical preprocessing steps which are also used by prior literature. To reduce the dimensionality of the overall text corpus, we exclude highly frequent words (“stop words”; see [Manela and Moreira [2017]](https://www.sciencedirect.com/science/article/abs/pii/S0304405X16301751)), word categories that do not contain any information with regard to the underlying research question (e.g., [Lee [2016]](https://meridian.allenpress.com/accounting-review/article-abstract/91/1/229/53572/Can-Investors-Detect-Managers-Lack-of-Spontaneity?redirectedFrom=fulltext)), and any word inflections by lemmatizing the words to their base form (e.g., [Li et al. [2021]](https://academic.oup.com/rfs/article/34/7/3265/5869446))."
   ]
  },
  {
   "cell_type": "code",
   "execution_count": 2,
   "metadata": {},
   "outputs": [],
   "source": [
    "# Definition of better tokenizer \n",
    "def tokenizer(text):\n",
    "    doc = nlp(text)\n",
    "    words = [token.lemma_ for token in doc if \n",
    "                 token.is_stop == False \n",
    "                 and token.is_punct == False\n",
    "                 and (token.pos_ == \"NOUN\" \n",
    "                      or token.pos_ == \"ADJ\" \n",
    "                      or token.pos_ == \"PROPN\"\n",
    "                      or token.pos_ == \"VERB\")\n",
    "                 and any(digit in token.text for digit in (\"0\", \"1\", \"2\", \"3\", \n",
    "                                                           \"4\", \"5\", \"6\", \"7\",\n",
    "                                                           \"8\" , \"9\", \".\")) == False]\n",
    "    return words"
   ]
  },
  {
   "cell_type": "code",
   "execution_count": 3,
   "metadata": {},
   "outputs": [],
   "source": [
    "# Definition of output DataFrame\n",
    "df = [0,1,2,3]"
   ]
  },
  {
   "cell_type": "markdown",
   "metadata": {},
   "source": [
    "**Management presentation:**\n",
    "\n",
    "***Satya Nadella, CEO:*** *“[…] We want to build products that people love to use, and as a result, you'll see us increasingly focus on usage as the leading indicator of long-term success. To that end, we're already making progress. Amy will provide additional detail, but I wanted to say a few words about the quarter itself. Today's results demonstrate the breadth and strength of our overall business. We saw strong momentum in Cloud services, our commercial Cloud business more than doubled year-over-year with Office 365 and Azure are both performing extremely well. Business customers continued to make Windows their overwhelming platform of choice with solid growth both in Windows Pro and Windows volume licensing revenues. We saw continued improvement in search, with our US search share growing to 18.6%, and search revenue increasing by 38%. Bing continues to deliver platform capabilities across our products. One recent example of this is the recently-announced Cortana virtual assistant for Windows Phone. And very importantly, across all our businesses, we continue to have a rigorous focus on execution and cost discipline, resulting in solid revenue and earnings per share. I sum up this quarter in two words, execution and transition. We delivered solid financial results, and we took several steps to reorient Microsoft. In recent weeks, we talked about how we're advancing Office, Windows and our data platform, and how we think holistically about the constituencies we serve, IT, developers and the people at the center in the mobile-first cloud first world. We will continue to invest in our cloud capabilities, including Office 365 and Azure in the fast-growing SaaS and Cloud platform markets. We are committed to ensuring that our cloud services are available across all device platforms that people use. We're delivering a cloud for everyone on every device. […]”*\n",
    "\n",
    "\n",
    "\n",
    "***Amy Hood, CFO:*** *“[…] We had outstanding momentum and results in our cloud services. As Satya mentioned, commercial cloud revenue more than doubled again this quarter. Office 365 is now on an annual revenue run rate of $2.5 billion, and Azure revenue grew over 150\\%, driven by both new customers and increased usage. In our Office 365 Home service, we added nearly 1 million new users this quarter, and now have over 4.4 million subscribers, they continued to enhance its value competition with new features, premium services, and cross-platform functionality. As we cross the one-year anniversary since launch, we are pleased with the renewal rates we are experiencing thus far. With Bing, we made clear progress again this quarter. We grew our US share and improved RPS significantly. Display revenue, related to portal and e-mail, declined, while we saw ad revenue growth in products like Skype and Xbox. Importantly, we are innovating, while expanding our cloud gross margins through both improved scale and continuous engineering efforts to drive efficiency. Businesses are clearly expressing their overwhelming preference for Windows. Windows Pro revenue grew 19\\%, driven by growth in business PCs. Mix shift to developed markets, where attach is higher, continued strength in the enterprise, and an increased mix of Pro in small and medium businesses. Windows volume licensing also had a solid 11\\% revenue growth. Windows XP end of support contributed in part to this growth we saw this quarter, as did a general hardware refresh. […]”*\n",
    "\n",
    "\n",
    "Hence, in the management presentation, the CEO talks about the business development from a strategic perspective and describes that their business operations (mainly cloud products) developed quite positively over the past quarter. The CFO subsequently provides more detail on the development from a rather financial perspective thereby highlighting increases in revenue and subscribers for Software-as-a-Service as well as cloud-related products."
   ]
  },
  {
   "cell_type": "code",
   "execution_count": 4,
   "metadata": {},
   "outputs": [],
   "source": [
    "df[0] = \"We want to build products that people love to use, and as a result, you'll see us increasingly focus on usage as the leading indicator of long-term success. To that end, we're already making progress. Amy will provide additional detail, but I wanted to say a few words about the quarter itself. Today's results demonstrate the breadth and strength of our overall business. We saw strong momentum in Cloud services, our commercial Cloud business more than doubled year-over-year with Office 365 and Azure ar both performing extremely well. Business customers continued to make Windows their overwhelming platform of choice with solid growth both in Windows Pro and Windows volume licensing revenues. We saw continued improvement in search, with our US search share growing to 18.6%, and search revenue increasing by 38%. Bing continues to deliver platform capabilities across our products. One recent example of this is the recently-announced Cortana virtual assistant for Windows Phone. And very importantly, across all our businesses, we continue to have a rigorous focus on execution and cost discipline, resulting in solid revenue and earnings per share. I sum up this quarter in two words, execution and transition. We delivered solid financial results, and we took several steps to reorient Microsoft. In recent weeks, we talked about how we're advancing Office, Windows and our data platform, and how we think holistically about the constituencies we serve, IT, developers and the people at the center in the mobile-first cloud first world. We will continue to invest in our cloud capabilities, including Office 365 and Azure in the fast-growing SaaS and Cloud platform markets. We are committed to ensuring that our cloud services are available across all device platforms that people use. We're delivering a cloud for everyone on every device. We had outstanding momentum and results in our cloud services. As Satya mentioned, commercial cloud revenue more than doubled again this quarter. Office 365 is now on an annual revenue run rate of $2.5 billion, and Azure revenue grew over 150%, driven by both new customers and increased usage. In our Office 365 Home service, we added nearly 1 million new users this quarter, and now have over 4.4 million subscribers, they continued to enhance its value competition with new features, premium services, and cross-platform functionality. As we cross the one-year anniversary since launch, we are pleased with the renewal rates we are experiencing thus far. With Bing, we made clear progress again this quarter. We grew our US share and improved RPS significantly. Display revenue, related to portal and e-mail, declined, while we saw ad revenue growth in products like Skype and Xbox. Importantly, we are innovating, while expanding our cloud gross margins through both improved scale and continuous engineering efforts to drive efficiency. Businesses are clearly expressing their overwhelming preference for Windows. Windows Pro revenue grew 19%, driven by growth in business PCs. Mix shift to developed markets, where attach is higher, continued strength in the enterprise, and an increased mix of Pro in small and medium businesses. Windows volume licensing also had a solid 11% revenue growth. Windows XP end of support contributed in part to this growth we saw this quarter, as did a general hardware refresh.\""
   ]
  },
  {
   "cell_type": "markdown",
   "metadata": {},
   "source": [
    "**Analysts’ questions:**\n",
    "\n",
    "***Rick Sherlund, Nomura Asset Management:*** *“First, Satya, on Platform-as-a-Service, I'm kind of curious how aggressively you plan to maybe change your business model to a subscription model and drive, like adobe did, less upfront revenue, more encouraging subscription and cloud-based, and whether we should begin to anticipate what it might look like to Microsoft as you make this transition to more of a subscription business. I'm just not sure what the margins are on your cloud business and as you transition, most SaaS companies have 70%, 80% gross margins, I'm not real sure where you are on your cloud businesses today. Do we think this is going to be a smooth transition, or might we expect it to be a little more disruptive, as you gain more and more traction on a subscription and cloud basis?”*\n",
    "\n",
    "According to the distribution parameters of *DistinctnessQ* displayed in Table 2, Rick Sherlund’s question is part of the first quartile and can therefore be classified as rather less-destinct. In particular, the question thematically relates to the managements’ discussion of the development and profitability (margins) of the firms’ business operations. Given the relatively low thematic distinctness, our resulting cosine medication score is lower (0.7490, *see below*)."
   ]
  },
  {
   "cell_type": "code",
   "execution_count": 5,
   "metadata": {},
   "outputs": [],
   "source": [
    "df[1] = \"First, Satya, on Platform-as-a-Service, I'm kind of curious how aggressively you plan to maybe change your business model to a subscription model and drive, like adobe did, less upfront revenue, more encouraging subscription and cloud-based, and whether we should begin to anticipate what it might look like to Microsoft as you make this transition to more of a subscription business. I'm just not sure what the margins are on your cloud business and as you transition, most SaaS companies have 70%, 80% gross margins, I'm not real sure where you are on your cloud businesses today. Do we think this is going to be a smooth transition, or might we expect it to be a little more disruptive, as you gain more and more traction on a subscription and cloud basis?\""
   ]
  },
  {
   "cell_type": "markdown",
   "metadata": {},
   "source": [
    "***Heather Bellini, Goldman Sachs:*** *“Thank you, and Satya, I’ll echo everybody’s thoughts that it’s great to have you on the call, and hear your perspective. I was wondering if you could share with us the decision recently to offer Windows for free for sub-9-inch devices, and how you think this impacts your share in that arena? And also, how should we think about Windows pricing, given your comment about how Windows is going to play in different market segmentations, how do we see Windows pricing evolving, if at all, for other types of form factors over time?”*\n",
    "\n",
    "Heather Bellini’s question is relatively more-distinct with a cosine modification score (*DistinctnessQ*) of 0.8884 (*see below*). She addresses a topic, namely the pricing of the firm’s product, which was not discussed in the management presentation. Hence, the resulting *DistinctnessQ* score is rather high."
   ]
  },
  {
   "cell_type": "code",
   "execution_count": 6,
   "metadata": {},
   "outputs": [],
   "source": [
    "df[2] = \"Thank you, and Satya, I'll echo everybody's thoughts that it's great to have you on the call, and hear your perspective. I was wondering if you could share with us the decision recently to offer Windows for free for sub-9-inch devices, and how you think this impacts your share in that arena? And also, how should we think about Windows pricing, given your comment about how Windows is going to play in different market segmentations, how do we see Windows pricing evolving, if at all, for other types of form factors over time?\""
   ]
  },
  {
   "cell_type": "markdown",
   "metadata": {},
   "source": [
    "***Walter Pritchard, Citigroup:*** *“Amy, just a question for you, I know you're not providing updated guidance for Nokia. Just wondering, maybe a little bit of thought behind that decision. I know the deal closes tomorrow, you probably could have easily moved things around here a bit and reported on early next week, and had that benefit. Is the lack of guidance there, is it just simply you haven't been able to get your hands into that business at this point? Is there something else that's changed in that business, just trying to get a sense. It does open up quite a bit of variability, in terms of how people are going to model things over the next three months.”*\n",
    "\n",
    "The management neither talked about the firm’s guidance nor about their subsidiaries. However, Walter Pritchard is specifically asking the for the management’s reasoning for not providing guidance for a specific subsidiary. Our cosine modification score picks that up and therefore our resulting *DistinctnessQ* score is relatively high (0.9373, *see below*) for this question."
   ]
  },
  {
   "cell_type": "code",
   "execution_count": 7,
   "metadata": {},
   "outputs": [],
   "source": [
    "df[3] = \"Amy, just a question for you, I know you're not providing updated guidance for Nokia. Just wondering, maybe a little bit of thought behind that decision. I know the deal closes tomorrow, you probably could have easily moved things around here a bit and reported on early next week, and had that benefit. Is the lack of guidance there, is it just simply you haven't been able to get your hands into that business at this point? Is there something else that's changed in that business, just trying to get a sense. It does open up quite a bit of variability, in terms of how people are going to model things over the next three months.\""
   ]
  },
  {
   "cell_type": "code",
   "execution_count": 8,
   "metadata": {},
   "outputs": [],
   "source": [
    "# Definition of count vectorizer that is using the predefined tokenizer and mono- and bigrams\n",
    "count_tokenizer = CountVectorizer(tokenizer=tokenizer, \n",
    "                                    ngram_range=(1,2))"
   ]
  },
  {
   "cell_type": "code",
   "execution_count": 9,
   "metadata": {},
   "outputs": [],
   "source": [
    "# Calculation of cosine similarity\n",
    "count_matrix = count_tokenizer.fit_transform(df)    \n",
    "count_similarity = cosine_similarity(count_matrix)\n",
    "DistinctnessQ = np.around(np.subtract(1,count_similarity), decimals=4)"
   ]
  },
  {
   "cell_type": "code",
   "execution_count": 10,
   "metadata": {},
   "outputs": [
    {
     "name": "stdout",
     "output_type": "stream",
     "text": [
      "DistinctnessQ for Rick Sherlund's questions is:  0.749\n",
      "DistinctnessQ for Heather Bellini's questions is:  0.8884\n",
      "DistinctnessQ for Walter Pritchard's questions is:  0.9373\n"
     ]
    }
   ],
   "source": [
    "print(\"DistinctnessQ for Rick Sherlund's questions is: \", DistinctnessQ[1,0])\n",
    "print(\"DistinctnessQ for Heather Bellini's questions is: \", DistinctnessQ[2,0])\n",
    "print(\"DistinctnessQ for Walter Pritchard's questions is: \", DistinctnessQ[3,0])"
   ]
  },
  {
   "cell_type": "code",
   "execution_count": null,
   "metadata": {},
   "outputs": [],
   "source": []
  }
 ],
 "metadata": {
  "kernelspec": {
   "display_name": "Python 3 (ipykernel)",
   "language": "python",
   "name": "python3"
  },
  "language_info": {
   "codemirror_mode": {
    "name": "ipython",
    "version": 3
   },
   "file_extension": ".py",
   "mimetype": "text/x-python",
   "name": "python",
   "nbconvert_exporter": "python",
   "pygments_lexer": "ipython3",
   "version": "3.10.7"
  }
 },
 "nbformat": 4,
 "nbformat_minor": 2
}
